# File: 00_intro_qvm.ipynb
print('Hello from qvm_prototype/notebooks/00_intro_qvm.ipynb')
