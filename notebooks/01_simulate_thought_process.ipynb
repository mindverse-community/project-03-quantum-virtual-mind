# File: 01_simulate_thought_process.ipynb
print('Hello from qvm_prototype/notebooks/01_simulate_thought_process.ipynb')
